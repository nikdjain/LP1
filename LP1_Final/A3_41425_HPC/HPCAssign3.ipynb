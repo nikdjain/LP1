{
  "nbformat": 4,
  "nbformat_minor": 0,
  "metadata": {
    "colab": {
      "name": "HPCAssign3.ipynb",
      "provenance": [],
      "collapsed_sections": []
    },
    "kernelspec": {
      "name": "python3",
      "display_name": "Python 3"
    }
  },
  "cells": [
    {
      "cell_type": "markdown",
      "metadata": {
        "id": "SvnDftKHYLMf",
        "colab_type": "text"
      },
      "source": [
        "Merge Sort\n"
      ]
    },
    {
      "cell_type": "markdown",
      "metadata": {
        "id": "BQyt2XWzBeBu",
        "colab_type": "text"
      },
      "source": [
        "Note: Execution time is in microseconds.\n",
        "OpenMp method calculates in milliseconds."
      ]
    },
    {
      "cell_type": "markdown",
      "metadata": {
        "id": "1aS1zhL3fssU",
        "colab_type": "text"
      },
      "source": [
        "Merge Sort OpenMP\n"
      ]
    },
    {
      "cell_type": "code",
      "metadata": {
        "id": "pNTANdqpeFb8",
        "colab_type": "code",
        "colab": {}
      },
      "source": [
        "code1 = \"\"\"\n",
        "#include<iostream>\n",
        "#include<omp.h>\n",
        "using namespace std;\n",
        "void printArray(int *arr, int size) \n",
        "{\n",
        "    for(int i=0; i<size; i++) \n",
        "    {\n",
        "         cout<<arr[i]<<\"  \";\n",
        "    }\n",
        "    cout<<endl;\n",
        "}\n",
        "void merge(int* arr, int start, int mid, int end) \n",
        "{\n",
        "    int len = (end - start) + 1;\n",
        "    int temp[len];\n",
        "    int cur = 0;    \n",
        "    int i = start;\n",
        "    int j = mid + 1;\n",
        "    while(i <= mid && j <= end)\n",
        "    {\n",
        "        if(arr[i] < arr[j]) \n",
        "        {\n",
        "            temp[cur] = arr[i];\n",
        "            cur++;\n",
        "            i++;\n",
        "        }\n",
        "        else \n",
        "        {\n",
        "            temp[cur] = arr[j];\n",
        "            cur++;\n",
        "            j++;\n",
        "        }\n",
        "    }\n",
        "    if(i <= mid) \n",
        "    {\n",
        "        while(i <= mid) \n",
        "        {\n",
        "            temp[cur] = arr[i];\n",
        "            i++;\n",
        "            cur++;\n",
        "        }\n",
        "    }\n",
        "    else if(j <= end) \n",
        "    {\n",
        "        while(j <= end) \n",
        "        {\n",
        "            temp[cur] = arr[j];\n",
        "            j++;\n",
        "            cur++;\n",
        "        }\n",
        "    }\n",
        "    cur = 0;\n",
        "    for(i=start; i<=end; i++) \n",
        "    {\n",
        "        arr[i] = temp[cur];\n",
        "        cur++;\n",
        "    }\n",
        "}\n",
        "void mergeSort(int *arr, int start, int end) \n",
        "{\n",
        "    if(start < end) \n",
        "    {\n",
        "        int mid = (start+end) / 2;    \n",
        "        #pragma omp parallel sections\n",
        "        {\n",
        "            #pragma omp section\n",
        "            mergeSort(arr, start, mid);\n",
        "            #pragma omp section\n",
        "            mergeSort(arr, mid+1, end);\n",
        "        }\n",
        "        merge(arr, start, mid, end);\n",
        "    }\n",
        "}\n",
        "int main(int argc, char *argv[]) \n",
        "{\n",
        "    int size = 10;\n",
        "    int a[size];  \n",
        "    double start, end;\n",
        "    omp_set_num_threads(2);\n",
        "    srand((unsigned)time(0));\n",
        "    for(int i=0; i<size; i++) \n",
        "    {\n",
        "        a[i] = rand()% 100;\n",
        "    }\n",
        "    //int a[]= {7,33,5,5,23,111,75,34,77,121,120};\n",
        "    cout<<\"Array:\";\n",
        "    for(int i=0; i<size; i++) \n",
        "        cout<<\"  \"<<a[i];\n",
        "    cout<<endl;\n",
        "    start = omp_get_wtime();\n",
        "    mergeSort(a, 0, size-1);\n",
        "    cout<<\"Sorted Array:\";\n",
        "    printArray(a, size);\n",
        "    end = omp_get_wtime();\n",
        "    cout<<\"Time parallel = \"<<(end-start)<<endl;\n",
        "    return 0;\n",
        "}\n",
        "\"\"\""
      ],
      "execution_count": 5,
      "outputs": []
    },
    {
      "cell_type": "code",
      "metadata": {
        "id": "RbnqBdeQggzw",
        "colab_type": "code",
        "colab": {}
      },
      "source": [
        "t1=open(\"merge.cpp\",\"w\")\n",
        "t1.write(code1)\n",
        "t1.close()"
      ],
      "execution_count": 6,
      "outputs": []
    },
    {
      "cell_type": "code",
      "metadata": {
        "id": "QznrqOwjhBqo",
        "colab_type": "code",
        "colab": {}
      },
      "source": [
        "!g++ -fopenmp merge.cpp"
      ],
      "execution_count": 7,
      "outputs": []
    },
    {
      "cell_type": "code",
      "metadata": {
        "id": "T3-Uvk76hGtI",
        "colab_type": "code",
        "colab": {
          "base_uri": "https://localhost:8080/",
          "height": 68
        },
        "outputId": "752cd7b9-0f21-4b2e-9ad2-6a23e5789b95"
      },
      "source": [
        "!./a.out"
      ],
      "execution_count": 8,
      "outputs": [
        {
          "output_type": "stream",
          "text": [
            "Array:  28  54  93  45  45  39  74  99  40  8\n",
            "Sorted Array:8  28  39  40  45  45  54  74  93  99  \n",
            "Time parallel = 0.0136727\n"
          ],
          "name": "stdout"
        }
      ]
    },
    {
      "cell_type": "markdown",
      "metadata": {
        "id": "MujgIsSniFod",
        "colab_type": "text"
      },
      "source": [
        "Bubble Sort \n"
      ]
    },
    {
      "cell_type": "code",
      "metadata": {
        "id": "BidUBrsThz5Y",
        "colab_type": "code",
        "colab": {}
      },
      "source": [
        "code2=\"\"\"\n",
        "#include<omp.h>\n",
        "#include<iostream>\n",
        "using namespace std;\n",
        "void swap(int *num1, int *num2) \n",
        "{\n",
        "    int temp = *num1;\n",
        "    *num1 = *num2;\n",
        "    *num2 = temp;\n",
        "}\n",
        "int main() \n",
        "{\n",
        "    int n = 10;\n",
        "    int a[n];   \n",
        "    omp_set_num_threads(2);\n",
        "    srand((unsigned)time(0));\n",
        "    for(int i=0; i<n; i++) \n",
        "    {\n",
        "        a[i] = rand()% 100;\n",
        "    }   \n",
        "    cout<<\"Array:\";\n",
        "    for(int i=0; i<n; i++) \n",
        "        cout<<\"  \"<<a[i];\n",
        "    cout<<endl;\n",
        "    int i=0, j=0;\n",
        "    int first=0;\n",
        "    double start, end;\n",
        "    start = omp_get_wtime();\n",
        "    for(i=0; i<n-1; i++) \n",
        "    {\n",
        "        first = i%2;\n",
        "        #pragma omp parallel for\n",
        "        for(j=first; j<n-1; j++) \n",
        "        {\n",
        "            if(a[j] > a[j+1])\n",
        "              swap(&a[j], &a[j+1]);\n",
        "        }\n",
        "    }\n",
        "    end = omp_get_wtime();\n",
        "    cout<<\"Sorted Array: \"<<endl;\n",
        "    for(i=0; i<n; i++)\n",
        "      cout<<\"  \"<<a[i];\n",
        "    cout<<endl;\n",
        "    cout<<\"Execution in Parallel= \"<<(end-start)<<endl;\n",
        "    return 0;\n",
        "}\n",
        "\"\"\""
      ],
      "execution_count": null,
      "outputs": []
    },
    {
      "cell_type": "code",
      "metadata": {
        "id": "cT__BhJCiTVH",
        "colab_type": "code",
        "colab": {}
      },
      "source": [
        "t3=open(\"b.cpp\",\"w\")\n",
        "t3.write(code2)\n",
        "t3.close()"
      ],
      "execution_count": null,
      "outputs": []
    },
    {
      "cell_type": "code",
      "metadata": {
        "id": "zhgMAaFsids5",
        "colab_type": "code",
        "colab": {}
      },
      "source": [
        "!g++ -fopenmp b.cpp"
      ],
      "execution_count": null,
      "outputs": []
    },
    {
      "cell_type": "code",
      "metadata": {
        "id": "0yzM_XlEi_rw",
        "colab_type": "code",
        "colab": {
          "base_uri": "https://localhost:8080/",
          "height": 85
        },
        "outputId": "1ae64b1e-60c7-4bdf-e0da-12ba3d0bd1ea"
      },
      "source": [
        "!./a.out"
      ],
      "execution_count": null,
      "outputs": [
        {
          "output_type": "stream",
          "text": [
            "Array:  22  6  73  88  44  50  14  1  27  78\n",
            "Sorted Array: \n",
            "  1  6  14  22  27  44  50  73  78  88\n",
            "Execution in Parallel= 0.00010077\n"
          ],
          "name": "stdout"
        }
      ]
    }
  ]
}