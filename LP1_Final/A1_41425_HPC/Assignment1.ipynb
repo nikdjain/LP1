{
  "nbformat": 4,
  "nbformat_minor": 0,
  "metadata": {
    "colab": {
      "name": "Assignment1.ipynb",
      "provenance": [],
      "collapsed_sections": []
    },
    "kernelspec": {
      "name": "python3",
      "display_name": "Python 3"
    },
    "accelerator": "GPU"
  },
  "cells": [
    {
      "cell_type": "markdown",
      "metadata": {
        "id": "78BYn0q1rf2M",
        "colab_type": "text"
      },
      "source": [
        "1. Implement Parallel Reduction using Min, Max, Sum and Average.\n",
        "\n",
        "The 'omp' parallel sections directive effectively combines the omp parallel and omp sections directives. This directive lets you define a parallel region containing a single sections directive in one step."
      ]
    },
    {
      "cell_type": "code",
      "metadata": {
        "id": "Nv_GdlGqr18n",
        "colab_type": "code",
        "colab": {}
      },
      "source": [
        "#include<iostream>\n",
        "#include<time.h>\n",
        "#include<omp.h>\n",
        "#include<vector>\n",
        "using namespace std;\n",
        "vector<int> initialize(vector<int>,int);\n",
        "int main()\n",
        "{\n",
        "    int SIZE = 1<<20;\n",
        "    int arr[SIZE];\n",
        "    vector<int> v;\n",
        "    v = initialize(v,SIZE); //Function defined to initialize vectoe with random values\n",
        "    int x = 0;\n",
        "    vector<int>::iterator ptr;\n",
        "    //Copy vector to array\n",
        "    for (ptr = v.begin(); ptr < v.end(); ptr++)\n",
        "    {\n",
        "        arr[x]=*ptr;\n",
        "\t//cout<<*ptr<<endl;\n",
        "        x+=1;\n",
        "    }\n",
        "    double start,end;\n",
        "    start  =omp_get_wtime(); //Record start time\n",
        "    int max_val = 0;\n",
        "    int j;\n",
        "\t//Execute below loop parallely using omp compiler direcives\n",
        "    #pragma omp parallel for reduction(max:max_val)\n",
        "    for(j=0;j<SIZE;j++)\n",
        "    {\n",
        "        if(arr[j]>max_val)\n",
        "            max_val=arr[j];\n",
        "    }\n",
        "    cout<<\"\\nMAX value from array is = \"<<max_val<<endl;\n",
        "    int min_val = 10000; //MAX VALUE is given as input    \n",
        "    #pragma omp parallel for reduction(min:min_val)\n",
        "    for(j=0;j<SIZE;j++)\n",
        "    {\n",
        "        if(arr[j]<min_val)\n",
        "            min_val=arr[j];\n",
        "    }\n",
        "    cout<<\"\\nMIN value from array is = \"<<min_val<<endl;\n",
        "    int sum = 0;\n",
        "    #pragma omp  parallel for reduction(+:sum)\n",
        "    for(int i=0;i<SIZE;i++)\n",
        "    {\n",
        "        sum+=arr[i];\n",
        "    }\n",
        "    cout<<\"\\nSUM value from array is = \"<<sum<<endl;\n",
        "    sum = 0;\n",
        "    #pragma omp  parallel for reduction(+:sum)\n",
        "    for(int i=0;i<SIZE;i++)\n",
        "    {\n",
        "        sum+=arr[i];\n",
        "    }\n",
        "    int average = sum/SIZE;\n",
        "    cout<<\"\\nAVERAGE value from array is = \"<<average<<endl;\n",
        "    end = omp_get_wtime();\n",
        "    cout<<\"Execution time = \"<<end-start<<endl;\n",
        "}\n",
        "\n",
        "vector<int> initialize(vector<int> v,int n)\n",
        "{\n",
        "    srand(time(0));\n",
        "    for(int i=0;i<n;i++)\n",
        "        v.push_back(rand()%10000);\n",
        "    return v;\n",
        "}"
      ],
      "execution_count": null,
      "outputs": []
    },
    {
      "cell_type": "code",
      "metadata": {
        "id": "tCSfMhsetC_z",
        "colab_type": "code",
        "colab": {}
      },
      "source": [
        "!g++ -fopenmp Assign1-1.c"
      ],
      "execution_count": null,
      "outputs": []
    },
    {
      "cell_type": "code",
      "metadata": {
        "id": "EOnPk4CYtHro",
        "colab_type": "code",
        "colab": {
          "base_uri": "https://localhost:8080/",
          "height": 181
        },
        "outputId": "585e1633-4f56-4ab7-8d10-1a5ec779e274"
      },
      "source": [
        "!./a.out"
      ],
      "execution_count": null,
      "outputs": [
        {
          "output_type": "stream",
          "text": [
            "\n",
            "MAX value from array is = 9999\n",
            "\n",
            "MIN value from array is = 0\n",
            "\n",
            "SUM value from array is = 942541798\n",
            "\n",
            "AVERAGE value from array is = 898\n",
            "Execution time = 0.00710393\n"
          ],
          "name": "stdout"
        }
      ]
    },
    {
      "cell_type": "markdown",
      "metadata": {
        "id": "M7jcIt-Vr2vU",
        "colab_type": "text"
      },
      "source": [
        "2. Write a CUDA program that, given an N-element vector, find-\n",
        "-Max element of vector\n",
        "\n",
        "-Min element of vector\n",
        "\n",
        "-Mean of vector\n",
        "\n",
        "-Standard deviation of vector"
      ]
    },
    {
      "cell_type": "code",
      "metadata": {
        "id": "ik53IQVtnu04",
        "colab_type": "code",
        "colab": {}
      },
      "source": [
        "code = \"\"\"\n",
        "#include<iostream>\n",
        "#include<math.h>\n",
        "#define n 8\n",
        "using namespace std;\n",
        "__global__ void minimum(int *input) \n",
        "{\n",
        "    int tid = threadIdx.x;\n",
        "    int step_size = 1;\n",
        "    int number_of_threads = blockDim.x;    \n",
        "   // printf(\"No of threads = %d\", number_of_threads);\n",
        "    while(number_of_threads>0) \n",
        "    {\n",
        "        if(tid < number_of_threads) \n",
        "        {\n",
        "            int first = tid*step_size*2;\n",
        "            int second = first + step_size;\n",
        "            if(input[second] < input[first])\n",
        "              input[first] = input[second];\n",
        "        }\n",
        "        step_size <<= 1;\n",
        "        number_of_threads >>= 1;\n",
        "    }\n",
        "}\n",
        "__global__ void maximum(int *input) \n",
        "{\n",
        "    int tid = threadIdx.x;\n",
        "    int step_size = 1;\n",
        "    int number_of_threads = blockDim.x;    \n",
        "    while(number_of_threads>0) \n",
        "    {\n",
        "        if(tid < number_of_threads) \n",
        "        {\n",
        "            int first = tid*step_size*2;\n",
        "            int second = first + step_size;\n",
        "            if(input[second] > input[first])\n",
        "              input[first] = input[second];\n",
        "        }\n",
        "        step_size <<= 1;\n",
        "        number_of_threads >>= 1;\n",
        "    }\n",
        "}\n",
        "__global__ void sum(int *input) \n",
        "{\n",
        "    const int tid = threadIdx.x;\n",
        "    int step_size = 1;\n",
        "    int number_of_threads = blockDim.x;    \n",
        "    while(number_of_threads > 0) \n",
        "    {\n",
        "        if(tid < number_of_threads) \n",
        "        {\n",
        "            int first = tid * step_size * 2;\n",
        "            int second = first + step_size;    \n",
        "            input[first] += input[second];\n",
        "        }\n",
        "        step_size <<= 1;\n",
        "        number_of_threads >>= 1;\n",
        "    }\n",
        "}\n",
        "__global__ void mean_diff_sq(float *input, float mean) \n",
        "{\n",
        "    input[threadIdx.x] -= mean;\n",
        "    input[threadIdx.x] *= input[threadIdx.x];\n",
        "}\n",
        "__global__ void sum_floats(float *input) \n",
        "{\n",
        "    int tid = threadIdx.x;\n",
        "    int step_size = 1;\n",
        "    int number_of_threads = blockDim.x;    \n",
        "    while(number_of_threads > 0) \n",
        "    {\n",
        "        if(tid < number_of_threads) \n",
        "        {\n",
        "            int first = tid * step_size * 2;\n",
        "            int second = first + step_size;    \n",
        "            input[first] += input[second];\n",
        "        }\n",
        "        step_size <<= 1;\n",
        "        number_of_threads >>= 1;\n",
        "    }\n",
        "}\n",
        "void copy_int_to_float(float *dest, int *src, int size)\n",
        "{\n",
        "    for(int i=0; i<size; i++)\n",
        "        dest[i] = float(src[i]);\n",
        "}\n",
        "void random_ints(int *input, int size) \n",
        "{\n",
        "    srand((unsigned)time(0));\n",
        "    for(int i=0; i<size; i++)  \n",
        "    {\n",
        "        input[i] = rand()%20+1;\n",
        "        cout<<input[i]<<\"  \";   \n",
        "    }\n",
        "    cout<<endl;\n",
        "}\n",
        "int main() \n",
        "{\n",
        "    //int n=8;\n",
        "    int size = n*sizeof(int); //calculate no. of bytes for array        \n",
        "    int *arr;\n",
        "    int *arr_d, result;\n",
        "    arr = (int *)malloc(size);\n",
        "    random_ints(arr, n);\n",
        "    cudaMalloc((void **)&arr_d, size);\n",
        "    //MIN\n",
        "    cudaMemcpy(arr_d, arr, size, cudaMemcpyHostToDevice);\n",
        "    minimum<<<1,n/2>>>(arr_d);\n",
        "    cudaMemcpy(&result, arr_d, sizeof(int), cudaMemcpyDeviceToHost);\n",
        "    cout<<\"The minimum element is \"<<result<<endl;       \n",
        "    //MAX\n",
        "    cudaMemcpy(arr_d, arr, size, cudaMemcpyHostToDevice);\n",
        "    maximum<<<1,n/2>>>(arr_d);\n",
        "    cudaMemcpy(&result, arr_d, sizeof(int), cudaMemcpyDeviceToHost);\n",
        "    cout<<\"The maximum element is \"<<result<<endl;\n",
        "    //SUM\n",
        "    cudaMemcpy(arr_d, arr, size, cudaMemcpyHostToDevice);\n",
        "    sum<<<1,n/2>>>(arr_d);\n",
        "    cudaMemcpy(&result, arr_d, sizeof(int), cudaMemcpyDeviceToHost);\n",
        "    cout<<\"The sum is \"<<result<<endl;\n",
        "    //AVERAGE\n",
        "    float mean = float(result)/n;\n",
        "    cout<<\"The mean is \"<<mean<<endl;\n",
        "    //STANDARD DEVIATION\n",
        "    float *arr_float;\n",
        "    float *arr_std, stdValue;\n",
        "    arr_float = (float *)malloc(n*sizeof(float));\n",
        "    cudaMalloc((void **)&arr_std, n*sizeof(float));\n",
        "    copy_int_to_float(arr_float, arr, n);\n",
        "    cudaMemcpy(arr_std, arr_float, n*sizeof(float), cudaMemcpyHostToDevice);\n",
        "    mean_diff_sq <<<1,n>>>(arr_std, mean);\n",
        "    sum_floats<<<1,n/2>>>(arr_std);\n",
        "    cudaMemcpy(&stdValue, arr_std, sizeof(float), cudaMemcpyDeviceToHost);\n",
        "    stdValue = stdValue / n;\n",
        "    cout<<\"The variance is \"<<stdValue<<endl;\n",
        "    stdValue = sqrt(stdValue);\n",
        "    cout<<\"The standard deviation is \"<<stdValue<<endl;\n",
        "    cudaFree(arr_d);\n",
        "    return 0;\n",
        "}\n",
        "\"\"\""
      ],
      "execution_count": null,
      "outputs": []
    },
    {
      "cell_type": "code",
      "metadata": {
        "id": "7FQQK863n_zo",
        "colab_type": "code",
        "colab": {}
      },
      "source": [
        "t=open(\"Assign1.cu\",\"w\")\n",
        "t.write(code)\n",
        "t.close()\n"
      ],
      "execution_count": null,
      "outputs": []
    },
    {
      "cell_type": "code",
      "metadata": {
        "id": "Ev7JPMuboKHZ",
        "colab_type": "code",
        "colab": {}
      },
      "source": [
        "!nvcc Assign1.cu"
      ],
      "execution_count": null,
      "outputs": []
    },
    {
      "cell_type": "code",
      "metadata": {
        "id": "2LI8tSRUoOpy",
        "colab_type": "code",
        "colab": {
          "base_uri": "https://localhost:8080/",
          "height": 145
        },
        "outputId": "5085712a-42e5-439f-9699-2fc9c8cdd7e9"
      },
      "source": [
        "!./a.out"
      ],
      "execution_count": null,
      "outputs": [
        {
          "output_type": "stream",
          "text": [
            "17  7  11  10  5  14  13  14  \n",
            "The minimum element is 5\n",
            "The maximum element is 17\n",
            "The sum is 91\n",
            "The mean is 11.375\n",
            "The variance is 13.7344\n",
            "The standard deviation is 3.70599\n"
          ],
          "name": "stdout"
        }
      ]
    },
    {
      "cell_type": "code",
      "metadata": {
        "id": "4P_f0Hk6rUzo",
        "colab_type": "code",
        "colab": {
          "base_uri": "https://localhost:8080/",
          "height": 545
        },
        "outputId": "49a1924a-1afb-43be-d33d-4483b9830615"
      },
      "source": [
        "!nvprof ./a.out"
      ],
      "execution_count": null,
      "outputs": [
        {
          "output_type": "stream",
          "text": [
            "17  16  2  9  8  7  8  5  \n",
            "==2482== NVPROF is profiling process 2482, command: ./a.out\n",
            "The minimum element is 2\n",
            "The maximum element is 17\n",
            "The sum is 72\n",
            "The mean is 9\n",
            "The variance is 23\n",
            "The standard deviation is 4.79583\n",
            "==2482== Profiling application: ./a.out\n",
            "==2482== Profiling result:\n",
            "            Type  Time(%)      Time     Calls       Avg       Min       Max  Name\n",
            " GPU activities:   23.90%  8.8960us         4  2.2240us  2.0480us  2.3680us  [CUDA memcpy DtoH]\n",
            "                   18.40%  6.8480us         4  1.7120us  1.5040us  2.2720us  [CUDA memcpy HtoD]\n",
            "                   13.59%  5.0560us         1  5.0560us  5.0560us  5.0560us  minimum(int*)\n",
            "                   12.12%  4.5120us         1  4.5120us  4.5120us  4.5120us  sum_floats(float*)\n",
            "                   11.69%  4.3520us         1  4.3520us  4.3520us  4.3520us  maximum(int*)\n",
            "                   11.35%  4.2240us         1  4.2240us  4.2240us  4.2240us  sum(int*)\n",
            "                    8.94%  3.3280us         1  3.3280us  3.3280us  3.3280us  mean_diff_sq(float*, float)\n",
            "      API calls:   98.95%  124.78ms         2  62.390ms  16.932us  124.76ms  cudaMalloc\n",
            "                    0.42%  532.63us         1  532.63us  532.63us  532.63us  cuDeviceTotalMem\n",
            "                    0.29%  362.58us        97  3.7370us     158ns  142.41us  cuDeviceGetAttribute\n",
            "                    0.15%  190.52us         5  38.103us  7.9930us  120.64us  cudaLaunchKernel\n",
            "                    0.15%  187.59us         8  23.448us  15.657us  29.254us  cudaMemcpy\n",
            "                    0.02%  25.174us         1  25.174us  25.174us  25.174us  cuDeviceGetName\n",
            "                    0.02%  21.787us         1  21.787us  21.787us  21.787us  cudaFree\n",
            "                    0.00%  3.6050us         1  3.6050us  3.6050us  3.6050us  cuDeviceGetPCIBusId\n",
            "                    0.00%  2.3680us         3     789ns     223ns  1.1640us  cuDeviceGetCount\n",
            "                    0.00%  1.5160us         2     758ns     268ns  1.2480us  cuDeviceGet\n",
            "                    0.00%     350ns         1     350ns     350ns     350ns  cuDeviceGetUuid\n"
          ],
          "name": "stdout"
        }
      ]
    },
    {
      "cell_type": "code",
      "metadata": {
        "id": "ARfrPe6kzyYy",
        "colab_type": "code",
        "colab": {}
      },
      "source": [
        "code2=\"\"\"\n",
        "#include <bits/stdc++.h> \n",
        "#include<math.h>\n",
        "#include <chrono>\n",
        "using namespace std; \n",
        "using namespace std::chrono; \n",
        "int main() \n",
        "{ \n",
        "  auto start = high_resolution_clock::now();\n",
        "    vector<int> a; \n",
        "    cout << \"Vector: \"; \n",
        "    srand((unsigned)time(0));\n",
        "    for(int i = 0; i < 8; i++) \n",
        "    {\n",
        "      a.push_back(rand()%20+1);\n",
        "    }     \n",
        "    cout << endl; \n",
        "    for (auto i = a.begin(); i != a.end(); ++i) \n",
        "        cout << *i << \" \";\n",
        "    cout<<endl <<\"Max:\"<< *min_element(a.begin(), a.end()) << endl; \n",
        "    cout <<\"Min:\"<< *max_element(a.begin(), a.end()) << endl; \n",
        "    double sum;\n",
        "    for (auto i = a.begin(); i != a.end(); ++i)\n",
        "        sum=sum+ (*i);\n",
        "    cout <<\"Sum:\"<<sum<<endl;\n",
        "    long mean=sum/a.size();\n",
        "    cout<<\"Mean:\"<<mean<<endl;\n",
        "    double var;\n",
        "    for (auto i = a.begin(); i != a.end(); ++i)\n",
        "        var=var + ((*i-mean) * (*i-mean));\n",
        "    var/=8;\n",
        "    cout<<\"Variance:\"<<var<<endl;\n",
        "    cout<<\"Standard Deviation:\"<<sqrt(var)<<endl;\n",
        "    auto stop = high_resolution_clock::now(); \n",
        "    auto duration = duration_cast<microseconds>(stop - start);  \n",
        "    cout <<\"Execution Time:\"<< duration.count() << \" microseconds\" << endl;\n",
        "    return 0; \n",
        "}  \"\"\""
      ],
      "execution_count": null,
      "outputs": []
    },
    {
      "cell_type": "code",
      "metadata": {
        "id": "dm3CntNX0C1x",
        "colab_type": "code",
        "colab": {}
      },
      "source": [
        "text=open(\"a.cpp\",\"w\")\n",
        "text.write(code2)\n",
        "text.close()"
      ],
      "execution_count": null,
      "outputs": []
    },
    {
      "cell_type": "code",
      "metadata": {
        "id": "fJHcl5380MY8",
        "colab_type": "code",
        "colab": {}
      },
      "source": [
        "!g++ a.cpp"
      ],
      "execution_count": null,
      "outputs": []
    },
    {
      "cell_type": "code",
      "metadata": {
        "id": "ZBBmjRf10RGQ",
        "colab_type": "code",
        "colab": {
          "base_uri": "https://localhost:8080/",
          "height": 181
        },
        "outputId": "0c5adc13-39af-4e71-f173-b1ce0e7e6d53"
      },
      "source": [
        "!./a.out"
      ],
      "execution_count": null,
      "outputs": [
        {
          "output_type": "stream",
          "text": [
            "Vector: \n",
            "1 8 15 7 10 14 17 11 \n",
            "Max:1\n",
            "Min:17\n",
            "Sum:83\n",
            "Mean:10\n",
            "Variance:23.125\n",
            "Standard Deviation:4.80885\n",
            "Execution Time:96 microseconds\n"
          ],
          "name": "stdout"
        }
      ]
    }
  ]
}